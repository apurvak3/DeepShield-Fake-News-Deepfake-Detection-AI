{
 "cells": [
  {
   "cell_type": "code",
   "execution_count": null,
   "id": "baa1ae21",
   "metadata": {},
   "outputs": [
    {
     "ename": "",
     "evalue": "",
     "output_type": "error",
     "traceback": [
      "\u001b[1;31mFailed to start the Kernel 'base (Python 3.12.7)'. \n",
      "\u001b[1;31mView Jupyter <a href='command:jupyter.viewOutput'>log</a> for further details. WebSocket is not defined"
     ]
    }
   ],
   "source": [
    "import pandas as pd\n",
    "pip install websockets\n"
   ]
  },
  {
   "cell_type": "code",
   "execution_count": null,
   "id": "38cba173",
   "metadata": {},
   "outputs": [],
   "source": [
    "# Load datasets\n",
    "real = pd.read_csv(\"True.csv\")\n",
    "fake = pd.read_csv(\"Fake.csv\")\n",
    "\n",
    "real[\"label\"] = 0\n",
    "fake[\"label\"] = 1\n",
    "\n",
    "df = pd.concat([real, fake]).sample(frac=1).reset_index(drop=True)\n",
    "df.head()\n"
   ]
  }
 ],
 "metadata": {
  "kernelspec": {
   "display_name": "base",
   "language": "python",
   "name": "python3"
  },
  "language_info": {
   "name": "python",
   "version": "3.12.7"
  }
 },
 "nbformat": 4,
 "nbformat_minor": 5
}
